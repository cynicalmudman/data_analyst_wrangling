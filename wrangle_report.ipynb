{
 "cells": [
  {
   "cell_type": "markdown",
   "metadata": {},
   "source": [
    "# WeRateDogs Wrangling Report\n",
    "This document sets out the steps taken to gather, assess, and clean the data relating to the WeRateDogs Twitter account in preparation for analysis.  \n",
    "## Gathering\n",
    "First we gathered the date from three different sources:  \n",
    "\n",
    "1) The WeRateDogs Twitter archive, which was a file on hand,  \n",
    "2) The classification of the dogs in the photos. For each tweet there is a photo of the dog being rated and this was run by another team through a machine learning algorithm to try to work out the particulary breed. This was downloaded programmatically from a url.  \n",
    "3) Extra data from the Twitter API. Ideally this would have been done directly but I wasn't able to get access so used the data provided.  \n",
    "\n",
    "## Assessing\n",
    "The data was loaded into dataframes using the pandas library. Various techniques were then used on the three data sources to detect any missing or incorrect data and to ensure the data is tidy.\n",
    "\n",
    "The key findings were:\n",
    "- ratings needed to be cleaned up as the technique for pulling them from the tweets wasn't perfect and seemed to rely on finding a \"/\"\n",
    "- ratings were sometimes for multiple dogs, e.g. 110/100 for ten dogs in a picture\n",
    "- the breed data was badly organised and contained many images where something other than a dog had been identified\n",
    "\n",
    "The full list of issues is below."
   ]
  },
  {
   "cell_type": "markdown",
   "metadata": {},
   "source": [
    "### Twitter Archive\n",
    "* Contains Retweets `in_reply_to_status_id` != `Nan`\n",
    "* Contains columns with data about retweets `retweeted_status_id`, `retweeted_status_user_id`, and `retweeted_status_timestamp`\n",
    "* The entires in the `source` columns are obscured inside an `<a>` tag\n",
    "* The end of the entry in the `expanded_urls` column is often the tweet id\n",
    "* Ratings are not always pulled out of the tweets correctly and where they are they sometimes refer to multiple dogs so are not comparable\n",
    "* Some of the names are not correctly extracted from the tweet (relying on \"this is\"?)\n",
    "* `text` column contains the tweet url which is already available in expanded form in `expanded_url`\n",
    "* The last four columns are `doggo`, `floofer`, `pupper`, and `puppo` are a single category spread over multiple columns\n",
    "* `tweet_id` should be a `str` (`object`)\n",
    "* There are 59 `expanded_url` entries missing\n",
    "* Source, once stripped out, should be a `category` and `NaN` where not available\n",
    "* `timestamp` should be dtype `datatime`\n",
    "\n",
    "\n"
   ]
  },
  {
   "cell_type": "markdown",
   "metadata": {},
   "source": [
    "### Image Labelling\n",
    "\n",
    "* Breed classification is spread out over several columns and the data is not tidy\n",
    "* `tweet_id` should be a `str` (`object`)\n",
    "* The breeds themselves are inconsistently capitalised and have underscores"
   ]
  },
  {
   "cell_type": "markdown",
   "metadata": {},
   "source": [
    "### Tweet Meta Data\n",
    "\n",
    "* `id` should be a `str` (`object`) and is the key column that corresponds to `tweet_id`\n",
    "* `favorite_count` and `retweet_count` should be retained but the others dropped\n"
   ]
  },
  {
   "cell_type": "markdown",
   "metadata": {},
   "source": [
    "The data was also amalgamated into a single table since each row will be an observation about a tweet."
   ]
  },
  {
   "cell_type": "markdown",
   "metadata": {},
   "source": [
    "## Cleaning\n",
    "\n",
    "Various decisions were made in the cleaning that could have a bearing on the analysis and a summary is below:\n",
    "- Retweets and replies were dropped since there are not simple ratings of a picture of a dog\n",
    "- Ratings were corrected where something other than a rating was picked up\n",
    "- Ratings for multiple dogs were normailsed to that of a single dog by dividing by the number of dogs\n",
    "- Dog breed identification was chosen from the results given as the most likely option\n",
    "\n",
    "With the above steps completed, it was then time (finally!) to analyse the data."
   ]
  },
  {
   "cell_type": "code",
   "execution_count": null,
   "metadata": {},
   "outputs": [],
   "source": []
  }
 ],
 "metadata": {
  "kernelspec": {
   "display_name": "Python 3",
   "language": "python",
   "name": "python3"
  },
  "language_info": {
   "codemirror_mode": {
    "name": "ipython",
    "version": 3
   },
   "file_extension": ".py",
   "mimetype": "text/x-python",
   "name": "python",
   "nbconvert_exporter": "python",
   "pygments_lexer": "ipython3",
   "version": "3.8.3"
  }
 },
 "nbformat": 4,
 "nbformat_minor": 4
}
